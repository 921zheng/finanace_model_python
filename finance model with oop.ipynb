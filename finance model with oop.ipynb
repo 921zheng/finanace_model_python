{
  "nbformat": 4,
  "nbformat_minor": 0,
  "metadata": {
    "colab": {
      "provenance": []
    },
    "kernelspec": {
      "name": "python3",
      "display_name": "Python 3"
    },
    "language_info": {
      "name": "python"
    }
  },
  "cells": [
    {
      "cell_type": "code",
      "execution_count": 9,
      "metadata": {
        "colab": {
          "base_uri": "https://localhost:8080/",
          "height": 106
        },
        "id": "dQBCjhwusgEq",
        "outputId": "953f36a5-a3c0-4a16-f498-fd6cdc9099ed"
      },
      "outputs": [
        {
          "output_type": "error",
          "ename": "SyntaxError",
          "evalue": "invalid syntax (<ipython-input-9-6d1cb483b0eb>, line 3)",
          "traceback": [
            "\u001b[0;36m  File \u001b[0;32m\"<ipython-input-9-6d1cb483b0eb>\"\u001b[0;36m, line \u001b[0;32m3\u001b[0m\n\u001b[0;31m    Insert description here:\u001b[0m\n\u001b[0m           ^\u001b[0m\n\u001b[0;31mSyntaxError\u001b[0m\u001b[0;31m:\u001b[0m invalid syntax\n"
          ]
        }
      ],
      "source": [
        "# Retirement Model\n",
        "\n",
        "Insert description here:\n",
        "- [**Setup**](#Setup): Runs any imports and other setup\n",
        "- [**Inputs**](#Inputs): Defined the inputs for the model\n",
        "- [**Salaries**](#Salaries): Determines the annual salary based in cost of living raise"
      ]
    },
    {
      "cell_type": "markdown",
      "source": [
        "Setup\n",
        "\n",
        "Setup for the later caculations are here. The necessary packages are imported."
      ],
      "metadata": {
        "id": "prZWV6FxtHor"
      }
    },
    {
      "cell_type": "code",
      "source": [
        "from dataclasses import dataclass"
      ],
      "metadata": {
        "id": "N5cbrNmWtJch"
      },
      "execution_count": 10,
      "outputs": []
    },
    {
      "cell_type": "markdown",
      "source": [
        "Inputs\n",
        "\n",
        "All of the imputs for the model are defined here. A class is constructed to manage the data, and an instance of the class default inputs is created."
      ],
      "metadata": {
        "id": "ptXRo4X1tZQN"
      }
    },
    {
      "cell_type": "code",
      "source": [
        "@dataclass\n",
        "class ModelInputs:\n",
        "  starting_salary: int=60000\n",
        "  promos_every_n_years: int=5\n",
        "  cost_of_living_raise: float=0.02\n",
        "  savings_rate: float=0.25\n",
        "  promo_raise: float=0.15\n",
        "  interest_rate: float=0.05\n",
        "  desired_cash: int=1500000\n",
        "\n",
        "model_data=ModelInputs()\n",
        "model_data"
      ],
      "metadata": {
        "colab": {
          "base_uri": "https://localhost:8080/"
        },
        "id": "1pH3u6z6tYgN",
        "outputId": "1699601d-97e4-4f72-bc07-43dad8e74351"
      },
      "execution_count": 11,
      "outputs": [
        {
          "output_type": "execute_result",
          "data": {
            "text/plain": [
              "ModelInputs(starting_salary=60000, promos_every_n_years=5, cost_of_living_raise=0.02, savings_rate=0.25, promo_raise=0.15, interest_rate=0.05, desired_cash=1500000)"
            ]
          },
          "metadata": {},
          "execution_count": 11
        }
      ]
    },
    {
      "cell_type": "code",
      "source": [
        "data=model_data"
      ],
      "metadata": {
        "id": "Lr-kyQ9xub8I"
      },
      "execution_count": 12,
      "outputs": []
    },
    {
      "cell_type": "markdown",
      "source": [
        "Salaries"
      ],
      "metadata": {
        "id": "w28byTkwueRd"
      }
    },
    {
      "cell_type": "code",
      "source": [
        "def salary_at_year(data,year):\n",
        "    num_promos=int(year/data.promos_every_n_years)\n",
        "    salary_t=data.starting_salary * (1+ data.cost_of_living_raise) **year*(1+data.promo_raise)**num_promos\n",
        "    return salary_t\n",
        "\n",
        "salary_at_year(data,4)"
      ],
      "metadata": {
        "colab": {
          "base_uri": "https://localhost:8080/"
        },
        "id": "3OiQrzSeufoK",
        "outputId": "fbf69b42-2fab-45b4-dd5c-e8aa1a21e9c0"
      },
      "execution_count": 13,
      "outputs": [
        {
          "output_type": "execute_result",
          "data": {
            "text/plain": [
              "64945.929599999996"
            ]
          },
          "metadata": {},
          "execution_count": 13
        }
      ]
    },
    {
      "cell_type": "code",
      "source": [
        "for year in range(1,7):\n",
        "  salary=salary_at_year(model_data,year)\n",
        "  print(f'The salary at year {year} is ${salary:,.0f}')"
      ],
      "metadata": {
        "colab": {
          "base_uri": "https://localhost:8080/"
        },
        "id": "4KaMQtHNz5ZI",
        "outputId": "68931b3d-f4c4-4040-effc-636cffa920d5"
      },
      "execution_count": 14,
      "outputs": [
        {
          "output_type": "stream",
          "name": "stdout",
          "text": [
            "The salary at year 1 is $61,200\n",
            "The salary at year 2 is $62,424\n",
            "The salary at year 3 is $63,672\n",
            "The salary at year 4 is $64,946\n",
            "The salary at year 5 is $76,182\n",
            "The salary at year 6 is $77,705\n"
          ]
        }
      ]
    },
    {
      "cell_type": "markdown",
      "source": [
        "Wealth"
      ],
      "metadata": {
        "id": "lAGT5VW428fC"
      }
    },
    {
      "cell_type": "code",
      "source": [
        "year=1\n",
        "def cash_save_during_year(data,year):\n",
        "    salary=salary_at_year(data,year)\n",
        "    cash_saved=salary*data.savings_rate\n",
        "    return cash_saved\n",
        "\n",
        "cash_save_during_year(data,year)"
      ],
      "metadata": {
        "colab": {
          "base_uri": "https://localhost:8080/"
        },
        "id": "gKvIZ8JK28L9",
        "outputId": "c84f3ee4-0f5d-448a-92c4-450098d0101f"
      },
      "execution_count": 16,
      "outputs": [
        {
          "output_type": "execute_result",
          "data": {
            "text/plain": [
              "15300.0"
            ]
          },
          "metadata": {},
          "execution_count": 16
        }
      ]
    },
    {
      "cell_type": "code",
      "source": [
        "\n",
        "def wealth_at_year(data,year,prior_wealth):\n",
        "    cash_saved=cash_save_during_year(data,year)\n",
        "    wealth=prior_wealth * (1+data.interest_rate)+cash_saved\n",
        "    return wealth\n",
        "\n"
      ],
      "metadata": {
        "id": "nq-EEKUr6cUn"
      },
      "execution_count": 18,
      "outputs": []
    },
    {
      "cell_type": "code",
      "source": [
        "prior_wealth=0\n",
        "for i in range(6):\n",
        "    year =i+1\n",
        "    wealth=wealth_at_year(model_data,year, prior_wealth)\n",
        "    print(f'The wealth at year {year} is ${wealth:,.0f}.')\n",
        "    prior_wealth=wealth"
      ],
      "metadata": {
        "colab": {
          "base_uri": "https://localhost:8080/"
        },
        "id": "5gmfvdAX7mvK",
        "outputId": "a03a368f-865c-4640-f461-d511c60f6b19"
      },
      "execution_count": 22,
      "outputs": [
        {
          "output_type": "stream",
          "name": "stdout",
          "text": [
            "The wealth at year 1 is $15,300.\n",
            "The wealth at year 2 is $31,671.\n",
            "The wealth at year 3 is $49,173.\n",
            "The wealth at year 4 is $67,868.\n",
            "The wealth at year 5 is $90,307.\n",
            "The wealth at year 6 is $114,248.\n"
          ]
        }
      ]
    },
    {
      "cell_type": "markdown",
      "source": [
        "Retirement"
      ],
      "metadata": {
        "id": "VrQEWC5N9CMz"
      }
    },
    {
      "cell_type": "code",
      "source": [
        "def years_to_retirement(data):\n",
        "    prior_wealth=0\n",
        "    wealth=0\n",
        "    year=0\n",
        "    print('Wealths over time:')\n",
        "    while wealth <data.desired_cash:\n",
        "        year+=1\n",
        "        wealth=wealth_at_year(data,year,prior_wealth)\n",
        "        print(f'The wealth at year{year} is ${wealth:,.0f}')\n",
        "        prior_wealth=wealth\n",
        "\n",
        "    print('\\n\\nRetirement:')\n",
        "    print(f'It will take {year} years to retire')\n",
        "    return year\n",
        "\n",
        ""
      ],
      "metadata": {
        "id": "dcYiPvxQ9Bvi"
      },
      "execution_count": 24,
      "outputs": []
    },
    {
      "cell_type": "code",
      "source": [
        "# ytc=years_to_retirement(model_data)\n",
        "ytc=years_to_retirement(ModelInputs(cost_of_living_raise=0.04))"
      ],
      "metadata": {
        "colab": {
          "base_uri": "https://localhost:8080/"
        },
        "id": "zs-5LxT_F3gp",
        "outputId": "9d07e453-ad38-424b-e127-8d3f773a901d"
      },
      "execution_count": 28,
      "outputs": [
        {
          "output_type": "stream",
          "name": "stdout",
          "text": [
            "Wealths over time:\n",
            "The wealth at year1 is $15,600\n",
            "The wealth at year2 is $32,604\n",
            "The wealth at year3 is $51,107\n",
            "The wealth at year4 is $71,210\n",
            "The wealth at year5 is $95,758\n",
            "The wealth at year6 is $122,373\n",
            "The wealth at year7 is $151,191\n",
            "The wealth at year8 is $182,359\n",
            "The wealth at year9 is $216,029\n",
            "The wealth at year10 is $256,195\n",
            "The wealth at year11 is $299,543\n",
            "The wealth at year12 is $346,281\n",
            "The wealth at year13 is $396,626\n",
            "The wealth at year14 is $450,809\n",
            "The wealth at year15 is $514,435\n",
            "The wealth at year16 is $582,885\n",
            "The wealth at year17 is $656,467\n",
            "The wealth at year18 is $735,506\n",
            "The wealth at year19 is $820,345\n",
            "The wealth at year20 is $918,846\n",
            "The wealth at year21 is $1,024,572\n",
            "The wealth at year22 is $1,137,976\n",
            "The wealth at year23 is $1,259,537\n",
            "The wealth at year24 is $1,389,762\n",
            "The wealth at year25 is $1,539,679\n",
            "\n",
            "\n",
            "Retirement:\n",
            "It will take 25 years to retire\n"
          ]
        }
      ]
    }
  ]
}